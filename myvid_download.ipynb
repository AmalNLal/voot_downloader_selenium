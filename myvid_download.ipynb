{
 "cells": [
  {
   "cell_type": "code",
   "execution_count": 1,
   "metadata": {},
   "outputs": [],
   "source": [
    "from selenium import webdriver\n",
    "from selenium.webdriver.common.keys import Keys\n",
    "import time"
   ]
  },
  {
   "cell_type": "code",
   "execution_count": 12,
   "metadata": {},
   "outputs": [],
   "source": [
    "class Myvid():\n",
    "    def __init__(self,url):\n",
    "        self.url = url\n",
    "        profile = webdriver.FirefoxProfile()\n",
    "        profile.set_preference(\"browser.download.folderList\", 2)\n",
    "        profile.set_preference(\"browser.download.manager.showWhenStarting\", False)\n",
    "        profile.set_preference(\"browser.helperApps.neverAsk.saveToDisk\",'video/mp4')\n",
    "        self.bot = webdriver.Firefox(firefox_profile=profile)\n",
    "    \n",
    "    def access(self):\n",
    "        bot = self.bot\n",
    "        bot.get('https://myvid.download/')\n",
    "        time.sleep(5)\n",
    "        ip = bot.find_element_by_id('dlURL')\n",
    "        ip.send_keys(self.url)\n",
    "        ip.send_keys(Keys.RETURN)\n",
    "        time.sleep(15)\n",
    "    \n",
    "    def download(self):\n",
    "        bot = self.bot\n",
    "        dls = bot.find_elements_by_class_name('text-right')\n",
    "        dls[3].click()\n",
    "        "
   ]
  },
  {
   "cell_type": "code",
   "execution_count": 14,
   "metadata": {},
   "outputs": [],
   "source": [
    "#my = Myvid()\n",
    "#my.access()\n",
    "#my.download()"
   ]
  },
  {
   "cell_type": "code",
   "execution_count": null,
   "metadata": {},
   "outputs": [],
   "source": []
  }
 ],
 "metadata": {
  "kernelspec": {
   "display_name": "Python 3",
   "language": "python",
   "name": "python3"
  },
  "language_info": {
   "codemirror_mode": {
    "name": "ipython",
    "version": 3
   },
   "file_extension": ".py",
   "mimetype": "text/x-python",
   "name": "python",
   "nbconvert_exporter": "python",
   "pygments_lexer": "ipython3",
   "version": "3.7.0"
  }
 },
 "nbformat": 4,
 "nbformat_minor": 2
}
