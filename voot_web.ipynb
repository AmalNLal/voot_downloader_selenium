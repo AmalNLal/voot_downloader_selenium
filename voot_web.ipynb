{
 "cells": [
  {
   "cell_type": "code",
   "execution_count": 1,
   "metadata": {},
   "outputs": [],
   "source": [
    "from selenium import webdriver\n",
    "from selenium.webdriver.common.keys import Keys\n",
    "import time\n",
    "import myvid_download"
   ]
  },
  {
   "cell_type": "code",
   "execution_count": 2,
   "metadata": {},
   "outputs": [],
   "source": [
    "class Voot:\n",
    "    def __init__(self):\n",
    "        self.bot = webdriver.Firefox()\n",
    "    \n",
    "    def access(self):\n",
    "        bot = self.bot\n",
    "        bot.get('https://voot.com/shows/bigg-boss/100730')\n",
    "        time.sleep(5)\n",
    "        bot.find_element_by_class_name('MuiTypography-root-93.DefaultCard-metatitle-517.MuiTypography-body2-101').click()\n",
    "        time.sleep(5)\n",
    "        return str(bot.current_url)"
   ]
  },
  {
   "cell_type": "code",
   "execution_count": 3,
   "metadata": {},
   "outputs": [],
   "source": [
    "v = Voot() \n",
    "url = v.access()\n",
    "my = myvid_download.Myvid(url)\n",
    "my.access()\n",
    "my.download()"
   ]
  },
  {
   "cell_type": "code",
   "execution_count": null,
   "metadata": {},
   "outputs": [],
   "source": []
  }
 ],
 "metadata": {
  "kernelspec": {
   "display_name": "Python 3",
   "language": "python",
   "name": "python3"
  },
  "language_info": {
   "codemirror_mode": {
    "name": "ipython",
    "version": 3
   },
   "file_extension": ".py",
   "mimetype": "text/x-python",
   "name": "python",
   "nbconvert_exporter": "python",
   "pygments_lexer": "ipython3",
   "version": "3.7.0"
  }
 },
 "nbformat": 4,
 "nbformat_minor": 2
}
